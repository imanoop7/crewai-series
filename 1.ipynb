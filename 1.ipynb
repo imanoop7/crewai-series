{
 "cells": [
  {
   "cell_type": "code",
   "execution_count": 1,
   "metadata": {},
   "outputs": [],
   "source": [
    "from crewai import Agent, Crew, Process, Task\n",
    "from crewai.project import CrewBase, agent, crew, task\n",
    "from crewai_tools import SerperDevTool\n",
    "from pydantic import Field\n",
    "from langchain_community.utilities import DuckDuckGoSearchAPIWrapper\n",
    "from crewai.tools import BaseTool"
   ]
  },
  {
   "cell_type": "code",
   "execution_count": 2,
   "metadata": {},
   "outputs": [],
   "source": [
    "from crewai import LLM\n",
    "llm = LLM(\n",
    "    model=\"ollama/llama3:70b\",\n",
    "    base_url=\"http://localhost:11434\"\n",
    ")\n"
   ]
  },
  {
   "cell_type": "code",
   "execution_count": 3,
   "metadata": {},
   "outputs": [],
   "source": [
    "class SearchTool(BaseTool):\n",
    "    name: str = \"Search\"\n",
    "    description: str = \"Useful for search-based queries. Use this to find current information about markets, companies, and trends.\"\n",
    "    search: DuckDuckGoSearchAPIWrapper = Field(default_factory=DuckDuckGoSearchAPIWrapper)\n",
    "\n",
    "    def _run(self, query: str) -> str:\n",
    "        \"\"\"Execute the search query and return results\"\"\"\n",
    "        try:\n",
    "            return self.search.run(query)\n",
    "        except Exception as e:\n",
    "            return f\"Error performing search: {str(e)}\""
   ]
  },
  {
   "cell_type": "code",
   "execution_count": 4,
   "metadata": {},
   "outputs": [],
   "source": [
    "researcher_agent = Agent(\n",
    "    role= \"{topic} Senior Data Researcher\",\n",
    "    goal=\"\"\"Uncover cutting-edge developments in {topic}\"\"\",\n",
    "    backstory=\"\"\"You're a seasoned researcher with a knack for uncovering the latest\n",
    "    developments in {topic}. Known for your ability to find the most relevant\n",
    "    information and present it in a clear and concise manner.\"\"\",\n",
    "    verbose=True,\n",
    "    llm=llm,\n",
    "    tools =[SearchTool()]\n",
    "\n",
    ")"
   ]
  },
  {
   "cell_type": "code",
   "execution_count": 5,
   "metadata": {},
   "outputs": [],
   "source": [
    "reporting_analyst = Agent(\n",
    "    role=\"{topic} Reporting Analyst\",\n",
    "    goal=\"Create detailed reports based on {topic} data analysis and research findings\",\n",
    "    backstory= \"\"\"You're a meticulous analyst with a keen eye for detail. You're known for\n",
    "    your ability to turn complex data into clear and concise reports, making\n",
    "    it easy for others to understand and act on the information you provide.\"\"\",\n",
    "    llm= llm,\n",
    "    verbose= True\n",
    ")"
   ]
  },
  {
   "cell_type": "code",
   "execution_count": 6,
   "metadata": {},
   "outputs": [],
   "source": [
    "research_task = Task(\n",
    "    description=\"\"\"\n",
    "        Conduct a thorough research about AI Agents.\n",
    "        Make sure you find any interesting and relevant information given\n",
    "        the current year is 2024.\n",
    "    \"\"\",\n",
    "    expected_output=\"\"\"\n",
    "        A list with 10 bullet points of the most relevant information about AI Agents\n",
    "    \"\"\",\n",
    "    agent=researcher_agent\n",
    ")\n",
    "\n",
    "reporting_task = Task(\n",
    "    description=\"\"\"\n",
    "        Review the context you got and expand each topic into a full section for a report.\n",
    "        Make sure the report is detailed and contains any and all relevant information.\n",
    "    \"\"\",\n",
    "    expected_output=\"\"\"\n",
    "        A fully fledge reports with the mains topics, each with a full section of information.\n",
    "        Formatted as markdown without '```'\n",
    "    \"\"\",\n",
    "    agent=reporting_analyst,\n",
    "    output_file=\"report.md\"\n",
    ")"
   ]
  },
  {
   "cell_type": "code",
   "execution_count": 7,
   "metadata": {},
   "outputs": [],
   "source": [
    "crew = Crew(\n",
    "    agents=[researcher_agent, reporting_analyst],\n",
    "    task=[research_task,reporting_task],\n",
    "    verbose= True,\n",
    "    process= Process.sequential\n",
    ")"
   ]
  },
  {
   "cell_type": "code",
   "execution_count": null,
   "metadata": {},
   "outputs": [],
   "source": [
    "inputs= {\"topic\": \"AI Agents\"}\n",
    "\n",
    "out=crew.kickoff(inputs=inputs)"
   ]
  },
  {
   "cell_type": "code",
   "execution_count": null,
   "metadata": {},
   "outputs": [],
   "source": []
  }
 ],
 "metadata": {
  "kernelspec": {
   "display_name": ".venv",
   "language": "python",
   "name": "python3"
  },
  "language_info": {
   "codemirror_mode": {
    "name": "ipython",
    "version": 3
   },
   "file_extension": ".py",
   "mimetype": "text/x-python",
   "name": "python",
   "nbconvert_exporter": "python",
   "pygments_lexer": "ipython3",
   "version": "3.11.0"
  }
 },
 "nbformat": 4,
 "nbformat_minor": 2
}
