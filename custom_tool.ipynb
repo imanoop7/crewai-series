{
 "cells": [
  {
   "cell_type": "markdown",
   "metadata": {},
   "source": [
    "# Sub Classing BaseTool"
   ]
  },
  {
   "cell_type": "code",
   "execution_count": 2,
   "metadata": {},
   "outputs": [],
   "source": [
    "\n",
    "from crewai.tools import BaseTool\n",
    "\n",
    "\n",
    "class MyCustomTool(BaseTool):\n",
    "    name: str = \"Name of my tool\"\n",
    "    description: str = \"Clear description for what this tool is useful for, your agent will need this information to use it.\"\n",
    "\n",
    "    def _run(self, argument: str) -> str:\n",
    "        # Implementation goes here\n",
    "        return \"Result from custom tool\"\n"
   ]
  },
  {
   "cell_type": "code",
   "execution_count": null,
   "metadata": {},
   "outputs": [],
   "source": [
    "from langchain_community.utilities import GoogleSerperAPIWrapper\n",
    "from pydantic import Field\n",
    "from dotenv import load_dotenv\n",
    "load_dotenv()\n",
    "\n",
    "search = GoogleSerperAPIWrapper()\n",
    "\n",
    "class SearchTool(BaseTool):\n",
    "    name: str = \"Search\"\n",
    "    description: str = \"Useful for search-based queries. Use this to find current information about markets, companies, and trends.\"\n",
    "    search: GoogleSerperAPIWrapper = Field(default_factory=GoogleSerperAPIWrapper)\n",
    "\n",
    "    def _run(self, query: str) -> str:\n",
    "        \"\"\"Execute the search query and return results\"\"\"\n",
    "        try:\n",
    "            return self.search.run(query)\n",
    "        except Exception as e:\n",
    "            return f\"Error performing search: {str(e)}\""
   ]
  },
  {
   "cell_type": "markdown",
   "metadata": {},
   "source": [
    "# Using the tool Decorator"
   ]
  },
  {
   "cell_type": "code",
   "execution_count": 4,
   "metadata": {},
   "outputs": [],
   "source": [
    "from crewai.tools import tool\n",
    "\n",
    "@tool(\"Tool Name\")\n",
    "def my_simple_tool(question: str) -> str:\n",
    "    \"\"\"Tool description for clarity.\"\"\"\n",
    "    # Tool logic here\n",
    "    return \"Tool output\"\n"
   ]
  },
  {
   "cell_type": "code",
   "execution_count": null,
   "metadata": {},
   "outputs": [],
   "source": [
    "@tool(\"Search\")\n",
    "def search_tool(query):\n",
    "    \"\"\"Useful for search-based queries. Use this to find current information about markets, companies, and trends.\"\"\"\n",
    "    search = GoogleSerperAPIWrapper()\n",
    "    return search.run(query)\n",
    "\n"
   ]
  }
 ],
 "metadata": {
  "kernelspec": {
   "display_name": ".venv",
   "language": "python",
   "name": "python3"
  },
  "language_info": {
   "codemirror_mode": {
    "name": "ipython",
    "version": 3
   },
   "file_extension": ".py",
   "mimetype": "text/x-python",
   "name": "python",
   "nbconvert_exporter": "python",
   "pygments_lexer": "ipython3",
   "version": "3.11.0"
  }
 },
 "nbformat": 4,
 "nbformat_minor": 2
}
